{
  "nbformat": 4,
  "nbformat_minor": 0,
  "metadata": {
    "colab": {
      "name": "Intro.ipynb",
      "provenance": [],
      "collapsed_sections": [],
      "authorship_tag": "ABX9TyM9WaD/Qy69Wx6OGUu7LnHv",
      "include_colab_link": true
    },
    "kernelspec": {
      "name": "python3",
      "display_name": "Python 3"
    },
    "language_info": {
      "name": "python"
    }
  },
  "cells": [
    {
      "cell_type": "markdown",
      "metadata": {
        "id": "view-in-github",
        "colab_type": "text"
      },
      "source": [
        "<a href=\"https://colab.research.google.com/github/DeepanshuPasrija/test/blob/master/Intro.ipynb\" target=\"_parent\"><img src=\"https://colab.research.google.com/assets/colab-badge.svg\" alt=\"Open In Colab\"/></a>"
      ]
    },
    {
      "cell_type": "code",
      "metadata": {
        "id": "6bYfYg7SPQLE"
      },
      "source": [
        "fileContent = open(\"/content/demofile.txt\",\"r\")"
      ],
      "execution_count": null,
      "outputs": []
    },
    {
      "cell_type": "code",
      "metadata": {
        "colab": {
          "base_uri": "https://localhost:8080/"
        },
        "id": "AUrz-HatRziQ",
        "outputId": "bbac68b5-ffca-4e43-a3e0-e5b4c5afd613"
      },
      "source": [
        "print(fileContent.read())"
      ],
      "execution_count": null,
      "outputs": [
        {
          "output_type": "stream",
          "text": [
            "hello world. Hows everyone\n"
          ],
          "name": "stdout"
        }
      ]
    },
    {
      "cell_type": "code",
      "metadata": {
        "colab": {
          "base_uri": "https://localhost:8080/"
        },
        "id": "jt725u1GSBaD",
        "outputId": "b35e388a-61a4-4d91-8354-d5d4f5efdb47"
      },
      "source": [
        "fileContent1 = open(\"/content/Giants.csv\",\"r\")\n",
        "print(fileContent1.read())"
      ],
      "execution_count": null,
      "outputs": [
        {
          "output_type": "stream",
          "text": [
            "movie,title,genres,year,Rating,Rotton Tomato\n",
            "108583,Fawlty Towers (1975,Comedy,-1980,1,54\n",
            "32898,\"Trip to the Moon, A (Voyage dans la lune, Le)\",Action|Adventure|Fantasy|Sci-Fi,1902,7,80\n",
            "7065,\"Birth of a Nation, The\",Drama|War,1915,6,92\n"
          ],
          "name": "stdout"
        }
      ]
    },
    {
      "cell_type": "code",
      "metadata": {
        "colab": {
          "base_uri": "https://localhost:8080/"
        },
        "id": "OQrXai__Sbl_",
        "outputId": "ada814ef-a17d-4448-cece-51706ab33010"
      },
      "source": [
        "# importing csv module\n",
        "import csv\n",
        "\n",
        "# csv file name\n",
        "filename = \"Giants.csv\"\n",
        "\n",
        "# initializing the titles and rows list\n",
        "fields = []\n",
        "rows = []\n",
        "\n",
        "# reading csv file\n",
        "with open(filename, 'r') as csvfile:\n",
        "\t# creating a csv reader object\n",
        "\tcsvreader = csv.reader(csvfile)\n",
        "\t\n",
        "\t# extracting field names through first row\n",
        "\tfields = next(csvreader)\n",
        "\n",
        "\t# extracting each data row one by one\n",
        "\tfor row in csvreader:\n",
        "\t\trows.append(row)\n",
        "\n",
        "\t# get total number of rows\n",
        "\tprint(\"Total no. of rows: %d\"%(csvreader.line_num))\n",
        "\n",
        "# printing the field names\n",
        "print('Field names are:' + ', '.join(field for field in fields))\n",
        "\n",
        "# printing first 5 rows\n",
        "print('\\nFirst 5 rows are:\\n')\n",
        "for row in rows[:5]:\n",
        "\t# parsing each column of a row\n",
        "\tfor col in row:\n",
        "\t\tprint(\"%10s\"%col),\n",
        "\tprint('\\n')\n"
      ],
      "execution_count": null,
      "outputs": [
        {
          "output_type": "stream",
          "text": [
            "Total no. of rows: 4\n",
            "Field names are:movie, title, genres, year, Rating, Rotton Tomato\n",
            "\n",
            "First 5 rows are:\n",
            "\n",
            "    108583\n",
            "Fawlty Towers (1975\n",
            "    Comedy\n",
            "     -1980\n",
            "         1\n",
            "        54\n",
            "\n",
            "\n",
            "     32898\n",
            "Trip to the Moon, A (Voyage dans la lune, Le)\n",
            "Action|Adventure|Fantasy|Sci-Fi\n",
            "      1902\n",
            "         7\n",
            "        80\n",
            "\n",
            "\n",
            "      7065\n",
            "Birth of a Nation, The\n",
            " Drama|War\n",
            "      1915\n",
            "         6\n",
            "        92\n",
            "\n",
            "\n"
          ],
          "name": "stdout"
        }
      ]
    }
  ]
}